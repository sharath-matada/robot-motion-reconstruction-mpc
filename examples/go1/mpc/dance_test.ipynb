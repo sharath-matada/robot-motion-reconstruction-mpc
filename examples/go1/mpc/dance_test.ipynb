{
 "cells": [
  {
   "cell_type": "code",
   "execution_count": 211,
   "metadata": {},
   "outputs": [],
   "source": [
    "import robotoc\n",
    "from robotoc_sim import MPCSimulation, CameraSettings\n",
    "import numpy as np\n",
    "import roboticstoolbox as rtb\n",
    "from roboticstoolbox import models\n",
    "from roboticstoolbox.robot.Robot import Robot\n",
    "from spatialmath import SE3\n",
    "\n"
   ]
  },
  {
   "cell_type": "code",
   "execution_count": 212,
   "metadata": {},
   "outputs": [],
   "source": [
    "\n",
    "model_info = robotoc.RobotModelInfo()\n",
    "model_info.urdf_path = '../a1_description/urdf/a1.urdf'\n",
    "model_info.base_joint_type = robotoc.BaseJointType.FloatingBase\n",
    "baumgarte_time_step = 0.05\n",
    "model_info.point_contacts = [robotoc.ContactModelInfo('FL_foot', baumgarte_time_step),\n",
    "                             robotoc.ContactModelInfo('RL_foot', baumgarte_time_step),\n",
    "                             robotoc.ContactModelInfo('FR_foot', baumgarte_time_step),\n",
    "                             robotoc.ContactModelInfo('RR_foot', baumgarte_time_step)]\n"
   ]
  },
  {
   "cell_type": "code",
   "execution_count": 213,
   "metadata": {},
   "outputs": [],
   "source": [
    "from roboticstoolbox.robot.ERobot import ERobot\n",
    "\n",
    "\n",
    "class A1(ERobot):\n",
    "        \"\"\"\n",
    "        Class that imports a URDF model\n",
    "        \"\"\"\n",
    "\n",
    "        def __init__(self, urdf_file):\n",
    "\n",
    "            links, name, urdf_string, urdf_filepath = self.URDF_read(urdf_file)\n",
    "\n",
    "            super().__init__(\n",
    "                links,\n",
    "                name=name,\n",
    "                manufacturer=\"Unitree\",\n",
    "                urdf_string=urdf_string,\n",
    "                urdf_filepath=urdf_filepath,\n",
    "            )\n"
   ]
  },
  {
   "cell_type": "code",
   "execution_count": 214,
   "metadata": {},
   "outputs": [],
   "source": [
    "rtb_a1robot = A1(\"/home/sharath/robotoc/examples/a1/a1_description/urdf/a1.urdf\")"
   ]
  },
  {
   "cell_type": "code",
   "execution_count": 215,
   "metadata": {},
   "outputs": [
    {
     "data": {
      "text/plain": [
       "ERobot: a1_description (by Unitree), 12 joints (RRRRRRRRRRRR), 9 branches, dynamics, geometry, collision\n",
       "┌─────┬────────────────────┬───────┬──────────┬──────────────────────────────────┐\n",
       "│link │        link        │ joint │  parent  │       ETS: parent to link        │\n",
       "├─────┼────────────────────┼───────┼──────────┼──────────────────────────────────┤\n",
       "│   0\u001b[0m │ \u001b[38;5;4mbase\u001b[0m               │      \u001b[0m │ BASE\u001b[0m     │ SE3()\u001b[0m                            │\n",
       "│   1\u001b[0m │ \u001b[38;5;4mtrunk\u001b[0m              │      \u001b[0m │ base\u001b[0m     │ SE3()\u001b[0m                            │\n",
       "│   2\u001b[0m │ \u001b[38;5;4m@imu_link\u001b[0m          │      \u001b[0m │ trunk\u001b[0m    │ SE3()\u001b[0m                            │\n",
       "│   3\u001b[0m │ FR_hip\u001b[0m             │     0\u001b[0m │ trunk\u001b[0m    │ SE3(0.1805, -0.047, 0) ⊕ Rx(q0)\u001b[0m  │\n",
       "│   4\u001b[0m │ \u001b[38;5;4m@FR_thigh_shoulder\u001b[0m │      \u001b[0m │ FR_hip\u001b[0m   │ SE3(0, -0.081, 0)\u001b[0m                │\n",
       "│   5\u001b[0m │ FR_thigh\u001b[0m           │     1\u001b[0m │ FR_hip\u001b[0m   │ SE3(0, -0.0838, 0) ⊕ Ry(q1)\u001b[0m      │\n",
       "│   6\u001b[0m │ FR_calf\u001b[0m            │     2\u001b[0m │ FR_thigh\u001b[0m │ SE3(0, 0, -0.2) ⊕ Ry(q2)\u001b[0m         │\n",
       "│   7\u001b[0m │ \u001b[38;5;4m@FR_foot\u001b[0m           │      \u001b[0m │ FR_calf\u001b[0m  │ SE3(0, 0, -0.2)\u001b[0m                  │\n",
       "│   8\u001b[0m │ FL_hip\u001b[0m             │     3\u001b[0m │ trunk\u001b[0m    │ SE3(0.1805, 0.047, 0) ⊕ Rx(q3)\u001b[0m   │\n",
       "│   9\u001b[0m │ \u001b[38;5;4m@FL_thigh_shoulder\u001b[0m │      \u001b[0m │ FL_hip\u001b[0m   │ SE3(0, 0.081, 0)\u001b[0m                 │\n",
       "│  10\u001b[0m │ FL_thigh\u001b[0m           │     4\u001b[0m │ FL_hip\u001b[0m   │ SE3(0, 0.0838, 0) ⊕ Ry(q4)\u001b[0m       │\n",
       "│  11\u001b[0m │ FL_calf\u001b[0m            │     5\u001b[0m │ FL_thigh\u001b[0m │ SE3(0, 0, -0.2) ⊕ Ry(q5)\u001b[0m         │\n",
       "│  12\u001b[0m │ \u001b[38;5;4m@FL_foot\u001b[0m           │      \u001b[0m │ FL_calf\u001b[0m  │ SE3(0, 0, -0.2)\u001b[0m                  │\n",
       "│  13\u001b[0m │ RR_hip\u001b[0m             │     6\u001b[0m │ trunk\u001b[0m    │ SE3(-0.1805, -0.047, 0) ⊕ Rx(q6)\u001b[0m │\n",
       "│  14\u001b[0m │ \u001b[38;5;4m@RR_thigh_shoulder\u001b[0m │      \u001b[0m │ RR_hip\u001b[0m   │ SE3(0, -0.081, 0)\u001b[0m                │\n",
       "│  15\u001b[0m │ RR_thigh\u001b[0m           │     7\u001b[0m │ RR_hip\u001b[0m   │ SE3(0, -0.0838, 0) ⊕ Ry(q7)\u001b[0m      │\n",
       "│  16\u001b[0m │ RR_calf\u001b[0m            │     8\u001b[0m │ RR_thigh\u001b[0m │ SE3(0, 0, -0.2) ⊕ Ry(q8)\u001b[0m         │\n",
       "│  17\u001b[0m │ \u001b[38;5;4m@RR_foot\u001b[0m           │      \u001b[0m │ RR_calf\u001b[0m  │ SE3(0, 0, -0.2)\u001b[0m                  │\n",
       "│  18\u001b[0m │ RL_hip\u001b[0m             │     9\u001b[0m │ trunk\u001b[0m    │ SE3(-0.1805, 0.047, 0) ⊕ Rx(q9)\u001b[0m  │\n",
       "│  19\u001b[0m │ \u001b[38;5;4m@RL_thigh_shoulder\u001b[0m │      \u001b[0m │ RL_hip\u001b[0m   │ SE3(0, 0.081, 0)\u001b[0m                 │\n",
       "│  20\u001b[0m │ RL_thigh\u001b[0m           │    10\u001b[0m │ RL_hip\u001b[0m   │ SE3(0, 0.0838, 0) ⊕ Ry(q10)\u001b[0m      │\n",
       "│  21\u001b[0m │ RL_calf\u001b[0m            │    11\u001b[0m │ RL_thigh\u001b[0m │ SE3(0, 0, -0.2) ⊕ Ry(q11)\u001b[0m        │\n",
       "│  22\u001b[0m │ \u001b[38;5;4m@RL_foot\u001b[0m           │      \u001b[0m │ RL_calf\u001b[0m  │ SE3(0, 0, -0.2)\u001b[0m                  │\n",
       "└─────┴────────────────────┴───────┴──────────┴──────────────────────────────────┘"
      ]
     },
     "execution_count": 215,
     "metadata": {},
     "output_type": "execute_result"
    }
   ],
   "source": [
    "rtb_a1robot"
   ]
  },
  {
   "cell_type": "code",
   "execution_count": 223,
   "metadata": {},
   "outputs": [],
   "source": [
    "T = SE3([\n",
    "    [0.808,  0,  -0.5891, -0.1889],\n",
    "    [0,      1,   0,      -0.209],\n",
    "    [0.5891, 0,   0.808,  -0.3184],\n",
    "    [0,      0,   0,       1]\n",
    "])"
   ]
  },
  {
   "cell_type": "code",
   "execution_count": 224,
   "metadata": {},
   "outputs": [
    {
     "data": {
      "text/plain": [
       "IKSolution(q=array([ 0.        ,  0.        ,  0.        ,  0.        ,  0.        ,\n",
       "        0.        , -0.23387746,  0.54292848, -1.03748979]), success=False, iterations=836, searches=100, residual=1.8851017356552417e-10, reason='iteration and search limit reached, solution found but violates joint limits')"
      ]
     },
     "execution_count": 224,
     "metadata": {},
     "output_type": "execute_result"
    }
   ],
   "source": [
    "rtb_a1robot.ikine_LM(T,start=rtb_a1robot.links[0],end=rtb_a1robot.links[17],mask = [1/np.sqrt(3),1/np.sqrt(3),1/np.sqrt(3),0,0,0])"
   ]
  },
  {
   "cell_type": "code",
   "execution_count": 225,
   "metadata": {},
   "outputs": [],
   "source": [
    "robot = robotoc.Robot(model_info)\n",
    "t0 = 0.0\n",
    "q0 = np.array([0, 0, 0.3181, 0, 0, 0, 1, #CoM\n",
    "               -0.0916,  0.6332,  -1.3497, #LF\n",
    "               -0.3197,  0.3287,  -0.8457, #RF\n",
    "               -0.1360,  0.5179, -1.340, #LH\n",
    "               -0.2338,  0.5429,  -1.037]) #RH\n",
    "               \n",
    "robot.forward_kinematics(q0)\n",
    "com_ref0 = robot.com()\n",
    "x3d0_LF = robot.frame_position('FL_foot')\n",
    "x3d0_LH = robot.frame_position('RL_foot')\n",
    "x3d0_RF = robot.frame_position('FR_foot')\n",
    "x3d0_RH = robot.frame_position('RR_foot')"
   ]
  },
  {
   "cell_type": "code",
   "execution_count": 230,
   "metadata": {},
   "outputs": [
    {
     "data": {
      "text/plain": [
       "array([-0.13299595,  0.08800839, -0.00030908])"
      ]
     },
     "execution_count": 230,
     "metadata": {},
     "output_type": "execute_result"
    }
   ],
   "source": [
    "x3d0_LH"
   ]
  }
 ],
 "metadata": {
  "kernelspec": {
   "display_name": "Python 3.10.6 64-bit",
   "language": "python",
   "name": "python3"
  },
  "language_info": {
   "codemirror_mode": {
    "name": "ipython",
    "version": 3
   },
   "file_extension": ".py",
   "mimetype": "text/x-python",
   "name": "python",
   "nbconvert_exporter": "python",
   "pygments_lexer": "ipython3",
   "version": "3.10.6"
  },
  "orig_nbformat": 4,
  "vscode": {
   "interpreter": {
    "hash": "916dbcbb3f70747c44a77c7bcd40155683ae19c65e1c03b4aa3499c5328201f1"
   }
  }
 },
 "nbformat": 4,
 "nbformat_minor": 2
}
